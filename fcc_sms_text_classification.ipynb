{
  "cells": [
    {
      "cell_type": "markdown",
      "metadata": {
        "id": "view-in-github",
        "colab_type": "text"
      },
      "source": [
        "<a href=\"https://colab.research.google.com/github/lawun330/FCC-ML-Journey/blob/main/fcc_sms_text_classification.ipynb\" target=\"_parent\"><img src=\"https://colab.research.google.com/assets/colab-badge.svg\" alt=\"Open In Colab\"/></a>"
      ]
    },
    {
      "cell_type": "code",
      "execution_count": null,
      "metadata": {
        "id": "8RZOuS9LWQvv"
      },
      "outputs": [],
      "source": [
        "# import libraries\n",
        "try:\n",
        "  # %tensorflow_version only exists in Colab.\n",
        "  !pip install tf-nightly\n",
        "except Exception:\n",
        "  pass\n",
        "import tensorflow as tf\n",
        "import pandas as pd\n",
        "from tensorflow import keras\n",
        "!pip install tensorflow-datasets\n",
        "import tensorflow_datasets as tfds\n",
        "import numpy as np\n",
        "import matplotlib.pyplot as plt\n",
        "\n",
        "print(tf.__version__)"
      ]
    },
    {
      "cell_type": "code",
      "execution_count": null,
      "metadata": {
        "id": "lMHwYXHXCar3"
      },
      "outputs": [],
      "source": [
        "# get data files\n",
        "!wget https://cdn.freecodecamp.org/project-data/sms/train-data.tsv\n",
        "!wget https://cdn.freecodecamp.org/project-data/sms/valid-data.tsv\n",
        "\n",
        "train_file_path = \"train-data.tsv\"\n",
        "test_file_path = \"valid-data.tsv\""
      ]
    },
    {
      "cell_type": "code",
      "execution_count": null,
      "metadata": {
        "id": "g_h508FEClxO"
      },
      "outputs": [],
      "source": [
        "# create dataframe objects from tsv file\n",
        "train_dataset = pd.read_table(train_file_path, names=['Type', 'Message'])\n",
        "test_dataset = pd.read_csv(test_file_path, sep='\\t', names=['Type', 'Message'])\n",
        "\n",
        "# create labels and features\n",
        "train_labels, train_features = train_dataset['Type'], train_dataset['Message']\n",
        "test_labels, test_features = test_dataset['Type'], test_dataset['Message']"
      ]
    },
    {
      "cell_type": "code",
      "source": [
        "# encoding\n",
        "def bag_of_words(list_of_sentences, word_encoding_integer=1):\n",
        "    vocab = {} # a set of unique vocabularies in a dataset\n",
        "    bag = {} # show how many times a vocabulary appears in a dataset\n",
        "    encoded_sentences = [] # encoded lines\n",
        "\n",
        "    for sentence in list_of_sentences:\n",
        "        words_per_sentence = sentence.lower().split(\" \") # list the words\n",
        "        encoded_sentence = []\n",
        "\n",
        "        for word in words_per_sentence: # for every word in a sentence\n",
        "            if word in vocab: # if the word is encoded already\n",
        "                encoded_integer = vocab[word] # get its encoded value\n",
        "            else: # if the word is new\n",
        "                vocab[word] = word_encoding_integer # assign the encoded value\n",
        "                encoded_integer = word_encoding_integer # get its encoded value\n",
        "                word_encoding_integer += 1 # update encoding value for next word\n",
        "\n",
        "            # if the word is new, assign frequency # if it is old, add frequency\n",
        "            if encoded_integer in bag: bag[encoded_integer] += 1\n",
        "            else: bag[encoded_integer] = 1\n",
        "\n",
        "            encoded_sentence.append(encoded_integer) # convert each line of words into line of encoded integers\n",
        "\n",
        "        encoded_sentences.append(encoded_sentence)\n",
        "\n",
        "    return vocab, bag, encoded_sentences"
      ],
      "metadata": {
        "id": "waeK--Z3QI_I"
      },
      "execution_count": null,
      "outputs": []
    },
    {
      "cell_type": "code",
      "source": [
        "# decoding\n",
        "example_vocab = {}\n",
        "def decode_int(encoded_sentence=[], vocab_name=example_vocab):\n",
        "    decoded_sentence = \"\"\n",
        "    for names, encoded_ints in vocab_name.items(): # iterate through the given set of vocabulary\n",
        "        for ints in encoded_sentence: # iterate through the encoded values within an encoded sentence\n",
        "            if encoded_ints == ints: # if each encoded value is in vocab set\n",
        "                decoded_sentence += \" \"+str(names) # get its original word\n",
        "    return decoded_sentence"
      ],
      "metadata": {
        "id": "s-fhI9uUQLOV"
      },
      "execution_count": null,
      "outputs": []
    },
    {
      "cell_type": "code",
      "source": [
        "# encoding the features\n",
        "# the encoding integer 0 represents lacking of a word, the encoding integer value should start from 1\n",
        "vocab, vocab_repetition, encoded_sentences = bag_of_words(train_features) # encoding integer value starts from 1, the default\n",
        "test_vocab, test_vocab_repetition, encoded_test_sentences = bag_of_words(test_features)\n",
        "\n",
        "# encoding the labels\n",
        "# with \"sigmoid\" activation the encoding integers should be 0 and 1\n",
        "label_vocab, label_vocab_repetition, encoded_labels = bag_of_words(train_labels,0) # encoding integer value starts from 0\n",
        "label_test_vocab, label_test_vocab_repetition, encoded_t_labels = bag_of_words(test_labels,0)\n",
        "# test the functions to features and labels\n",
        "print(train_features[0]) # original\n",
        "print(encoded_sentences[0]) # encoded\n",
        "print(decode_int(encoded_sentences[0], vocab_name=vocab)) # decoded\n",
        "\n",
        "print()\n",
        "print(test_features[0]) # original\n",
        "print(encoded_test_sentences[0]) # encoded\n",
        "print(decode_int(encoded_test_sentences[0], vocab_name=test_vocab)) # decoded\n",
        "\n",
        "print()\n",
        "print(train_labels[0], test_labels[0]) # original\n",
        "print(encoded_labels[0], encoded_t_labels[0]) # encoded\n",
        "print(decode_int(encoded_labels[0], vocab_name=label_vocab), decode_int(encoded_t_labels[0], vocab_name=label_test_vocab)) # decoded"
      ],
      "metadata": {
        "id": "w0_1CyqmQQRM"
      },
      "execution_count": null,
      "outputs": []
    },
    {
      "cell_type": "code",
      "source": [
        "# Finding MAX_LEN by the average word length\n",
        "def find_MAX_LEN(list_of_sentences):\n",
        "    total_word_counts=0\n",
        "    for i in list_of_sentences:\n",
        "        total_word_counts+=len(i)\n",
        "\n",
        "    return total_word_counts // len(list_of_sentences)\n",
        "\n",
        "MAX_LEN = find_MAX_LEN(train_features)\n",
        "MAX_LEN"
      ],
      "metadata": {
        "id": "TNEswOd5P3DK"
      },
      "execution_count": null,
      "outputs": []
    },
    {
      "cell_type": "code",
      "source": [
        "# variables\n",
        "MAX_LEN = 80\n",
        "BATCH_SIZE = 64\n",
        "VOCAB_SIZE = len(vocab) #11331\n",
        "epochs = 10"
      ],
      "metadata": {
        "id": "hMxTaiFIPvuC"
      },
      "execution_count": null,
      "outputs": []
    },
    {
      "cell_type": "code",
      "source": [
        "# preprocessing the data\n",
        "\n",
        "# make every sentence the same length\n",
        "train_data = keras.utils.pad_sequences(encoded_sentences, MAX_LEN)\n",
        "test_data = keras.utils.pad_sequences(encoded_test_sentences, MAX_LEN)\n",
        "\n",
        "# flatten the nested list in labels for the model\n",
        "encoded_train_labels = [eachVal for eachList in encoded_labels for eachVal in eachList]\n",
        "encoded_test_labels = [eachVal for eachList in encoded_t_labels for eachVal in eachList]\n",
        "\n",
        "# convert to numpy format\n",
        "train_data = np.array(train_data)\n",
        "test_data = np.array(test_data)\n",
        "encoded_train_labels = np.array(encoded_train_labels)\n",
        "encoded_test_labels = np.array(encoded_test_labels)"
      ],
      "metadata": {
        "id": "ITO5P7CXPtha"
      },
      "execution_count": null,
      "outputs": []
    },
    {
      "cell_type": "code",
      "source": [
        "# build the model\n",
        "model = tf.keras.Sequential([\n",
        "                             tf.keras.layers.Embedding(VOCAB_SIZE+1, 32),\n",
        "                             tf.keras.layers.LSTM(32),\n",
        "                             tf.keras.layers.Dense(1, activation=\"sigmoid\")\n",
        "])\n",
        "model.summary()\n",
        "\n",
        "# compile\n",
        "model.compile(loss=\"binary_crossentropy\",\n",
        "              optimizer=\"rmsprop\",\n",
        "              metrics=['accuracy'])\n",
        "# train\n",
        "history = model.fit(train_data, encoded_train_labels, epochs=epochs, validation_split=0.2)"
      ],
      "metadata": {
        "id": "MkcF-FafPjJ3"
      },
      "execution_count": null,
      "outputs": []
    },
    {
      "cell_type": "code",
      "execution_count": null,
      "metadata": {
        "id": "zOMKywn4zReN"
      },
      "outputs": [],
      "source": [
        "# evaluate\n",
        "results = model.evaluate(test_data, encoded_test_labels)"
      ]
    },
    {
      "cell_type": "code",
      "execution_count": null,
      "metadata": {
        "id": "J9tD9yACG6M9"
      },
      "outputs": [],
      "source": [
        "# function to predict messages based on model\n",
        "# (should return list containing prediction and label, ex. [0.008318834938108921, 'ham'])\n",
        "def predict_message(pred_text):\n",
        "    prediction = []\n",
        "    tokens = keras.preprocessing.text.text_to_word_sequence(pred_text)\n",
        "    tokens = [vocab[word] if word in vocab else 0 for word in tokens]\n",
        "    encoded_pred_text = keras.utils.pad_sequences([tokens], MAX_LEN)[0] # numpy object\n",
        "\n",
        "    pred = np.zeros((1, MAX_LEN))\n",
        "    pred[0] = encoded_pred_text\n",
        "\n",
        "    predicted_array = model.predict(pred)\n",
        "    predicted_val = predicted_array[0].tolist()[0]\n",
        "    prediction.append(predicted_val)\n",
        "\n",
        "    if predicted_val<0.5:\n",
        "        prediction.append(\"ham\")\n",
        "    elif predicted_val>=0.5:\n",
        "        prediction.append(\"spam\")\n",
        "    return (prediction)\n",
        "\n",
        "pred_text = \"how are you doing today?\"\n",
        "\n",
        "prediction = predict_message(pred_text)\n",
        "print(prediction)"
      ]
    },
    {
      "cell_type": "code",
      "execution_count": null,
      "metadata": {
        "id": "Dxotov85SjsC"
      },
      "outputs": [],
      "source": [
        "# Run this cell to test your function and model. Do not modify contents.\n",
        "def test_predictions():\n",
        "  test_messages = [\"how are you doing today\",\n",
        "                   \"sale today! to stop texts call 98912460324\",\n",
        "                   \"i dont want to go. can we try it a different day? available sat\",\n",
        "                   \"our new mobile video service is live. just install on your phone to start watching.\",\n",
        "                   \"you have won £1000 cash! call to claim your prize.\",\n",
        "                   \"i'll bring it tomorrow. don't forget the milk.\",\n",
        "                   \"wow, is your arm alright. that happened to me one time too\"\n",
        "                  ]\n",
        "\n",
        "  test_answers = [\"ham\", \"spam\", \"ham\", \"spam\", \"spam\", \"ham\", \"ham\"]\n",
        "  passed = True\n",
        "\n",
        "  for msg, ans in zip(test_messages, test_answers):\n",
        "    prediction = predict_message(msg)\n",
        "    if prediction[1] != ans:\n",
        "      passed = False\n",
        "\n",
        "  if passed:\n",
        "    print(\"You passed the challenge. Great job!\")\n",
        "  else:\n",
        "    print(\"You haven't passed yet. Keep trying.\")\n",
        "\n",
        "test_predictions()\n"
      ]
    }
  ],
  "metadata": {
    "colab": {
      "private_outputs": true,
      "provenance": [],
      "include_colab_link": true
    },
    "kernelspec": {
      "display_name": "Python 3",
      "name": "python3"
    },
    "language_info": {}
  },
  "nbformat": 4,
  "nbformat_minor": 0
}