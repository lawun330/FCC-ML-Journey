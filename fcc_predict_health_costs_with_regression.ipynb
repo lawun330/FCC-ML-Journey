{
  "cells": [
    {
      "cell_type": "markdown",
      "metadata": {
        "id": "view-in-github",
        "colab_type": "text"
      },
      "source": [
        "<a href=\"https://colab.research.google.com/github/lawun330/FCC-ML-Journey/blob/main/fcc_predict_health_costs_with_regression.ipynb\" target=\"_parent\"><img src=\"https://colab.research.google.com/assets/colab-badge.svg\" alt=\"Open In Colab\"/></a>"
      ]
    },
    {
      "cell_type": "code",
      "execution_count": null,
      "metadata": {
        "id": "1rRo8oNqZ-Rj"
      },
      "outputs": [],
      "source": [
        "# Import libraries. You may or may not use all of these.\n",
        "!pip install -q git+https://github.com/tensorflow/docs\n",
        "import matplotlib.pyplot as plt\n",
        "import numpy as np\n",
        "import pandas as pd\n",
        "\n",
        "try:\n",
        "  # %tensorflow_version only exists in Colab.\n",
        "  %tensorflow_version 2.x\n",
        "except Exception:\n",
        "  pass\n",
        "import tensorflow as tf\n",
        "\n",
        "from tensorflow import keras\n",
        "from tensorflow.keras import layers\n",
        "\n",
        "import tensorflow_docs as tfdocs\n",
        "import tensorflow_docs.plots\n",
        "import tensorflow_docs.modeling"
      ]
    },
    {
      "cell_type": "code",
      "execution_count": null,
      "metadata": {
        "id": "CiX2FI4gZtTt"
      },
      "outputs": [],
      "source": [
        "# Import data\n",
        "!wget https://cdn.freecodecamp.org/project-data/health-costs/insurance.csv\n",
        "dataset = pd.read_csv('insurance.csv')\n",
        "dataset.tail()"
      ]
    },
    {
      "cell_type": "code",
      "execution_count": null,
      "metadata": {
        "id": "LcopvQh3X-kX"
      },
      "outputs": [],
      "source": [
        "dataset = dataset.dropna() # drop nan rows if it exists\n",
        "\n",
        "# convert categorical columns to numeric values\n",
        "categorical_cols=['sex', 'smoker', 'region']\n",
        "\n",
        "for categorical_col in categorical_cols:\n",
        "    dataset[categorical_col] = dataset[categorical_col].map({'male':'male', 'yes': 'smoker', 'northeast':'NE', 'southeast':'SE', 'southwest':'SW', 'northwest':'NW'})\n",
        "    dataset = pd.get_dummies(dataset, columns=[categorical_col], prefix='', prefix_sep='')\n",
        "\n",
        "# split the dataset in two\n",
        "# train_dataset = dataset.sample(frac=0.8, random_state=0) # shuffle and split in one line\n",
        "train_dataset = dataset[:1070]\n",
        "test_dataset = dataset.drop(train_dataset.index)\n",
        "\n",
        "# create feature datasets\n",
        "train_features = train_dataset.copy()\n",
        "test_features = test_dataset.copy()\n",
        "\n",
        "# create labels datasets\n",
        "train_labels, test_labels = train_features.pop('expenses'), test_features.pop('expenses')\n",
        "\n",
        "# shuffle train_features for validation data\n",
        "shuffled_train_dataset = train_dataset.copy().reindex(np.random.permutation(train_dataset.index))\n",
        "shuffled_train_features = shuffled_train_dataset\n",
        "shuffled_train_labels = shuffled_train_features.pop('expenses')"
      ]
    },
    {
      "cell_type": "code",
      "source": [
        "import seaborn as sns\n",
        "sns.pairplot(train_dataset[['expenses', 'age', 'smoker', 'bmi']], diag_kind='kde')"
      ],
      "metadata": {
        "id": "KH56QMvBF7tR"
      },
      "execution_count": null,
      "outputs": []
    },
    {
      "cell_type": "code",
      "source": [
        "# see how different the ranges of each feature\n",
        "shuffled_train_dataset.describe().transpose()[['mean', 'std']]"
      ],
      "metadata": {
        "id": "0Ph3ZW_4GCIp"
      },
      "execution_count": null,
      "outputs": []
    },
    {
      "cell_type": "code",
      "source": [
        "# create normalization layer\n",
        "normalizer = tf.keras.layers.Normalization(axis=-1)\n",
        "\n",
        "# pass data to be normalized\n",
        "shuffled_train_features = tf.convert_to_tensor(shuffled_train_features, dtype = tf.float32)\n",
        "normalizer.adapt(np.array(shuffled_train_features))\n",
        "\n",
        "# show how normalization is done\n",
        "example = np.array(shuffled_train_features[:1])\n",
        "\n",
        "with np.printoptions(precision=2, suppress=True):\n",
        "    print('First example:', example)\n",
        "    print()\n",
        "    print('Normalized:', normalizer(example).numpy())"
      ],
      "metadata": {
        "id": "yOYCRJ77GC-A"
      },
      "execution_count": null,
      "outputs": []
    },
    {
      "cell_type": "code",
      "source": [
        "# building linear model\n",
        "model = tf.keras.Sequential([\n",
        "    normalizer,\n",
        "    layers.Dense(2), # having this layer reduces the MAE\n",
        "    layers.Dense(units=1)\n",
        "])\n",
        "\n",
        "model.summary()"
      ],
      "metadata": {
        "id": "ZpLIOXQ5IL4H"
      },
      "execution_count": null,
      "outputs": []
    },
    {
      "cell_type": "code",
      "source": [
        "# compiling linear model\n",
        "model.compile(\n",
        "    optimizer=tf.keras.optimizers.Adam(learning_rate=0.2),\n",
        "    loss='mean_absolute_error', # loss function\n",
        "    metrics=['mae', 'mse']) # output mean absolute error and mean squared error\n",
        "\n",
        "# training the model\n",
        "# training on : train_features,train_labels vs shuffled_train_features,shuffled_train_labels, yields different results\n",
        "history = model.fit(shuffled_train_features, shuffled_train_labels, epochs=100, verbose=1,\n",
        "    # calculate validation results on 20% of the training data.\n",
        "    validation_split = 0.2)"
      ],
      "metadata": {
        "id": "40K4aVpUGuUM"
      },
      "execution_count": null,
      "outputs": []
    },
    {
      "cell_type": "code",
      "source": [
        "# evaluate the model\n",
        "test_results = {}\n",
        "test_features = tf.convert_to_tensor(test_features, dtype = tf.float32)\n",
        "test_labels = tf.convert_to_tensor(test_labels, dtype = tf.float32)\n",
        "test_results['model'] = model.evaluate(test_features, test_labels, verbose=0)\n",
        "test_results"
      ],
      "metadata": {
        "id": "u2NDTLnYJuuP"
      },
      "execution_count": null,
      "outputs": []
    },
    {
      "cell_type": "code",
      "execution_count": null,
      "metadata": {
        "id": "Xe7RXH3N3CWU"
      },
      "outputs": [],
      "source": [
        "# RUN THIS CELL TO TEST YOUR MODEL. DO NOT MODIFY CONTENTS.\n",
        "# Test model by checking how well the model generalizes using the test set.\n",
        "loss, mae, mse = model.evaluate(test_features, test_labels, verbose=2)\n",
        "\n",
        "print(\"Testing set Mean Abs Error: {:5.2f} expenses\".format(mae))\n",
        "\n",
        "if mae < 3500:\n",
        "  print(\"You passed the challenge. Great job!\")\n",
        "else:\n",
        "  print(\"The Mean Abs Error must be less than 3500. Keep trying.\")\n",
        "\n",
        "# Plot predictions.\n",
        "test_predictions = model.predict(test_features).flatten()\n",
        "\n",
        "a = plt.axes(aspect='equal')\n",
        "plt.scatter(test_labels, test_predictions)\n",
        "plt.xlabel('True values (expenses)')\n",
        "plt.ylabel('Predictions (expenses)')\n",
        "lims = [0, 50000]\n",
        "plt.xlim(lims)\n",
        "plt.ylim(lims)\n",
        "_ = plt.plot(lims,lims)\n"
      ]
    }
  ],
  "metadata": {
    "colab": {
      "private_outputs": true,
      "provenance": [],
      "include_colab_link": true
    },
    "kernelspec": {
      "display_name": "Python 3",
      "name": "python3"
    }
  },
  "nbformat": 4,
  "nbformat_minor": 0
}