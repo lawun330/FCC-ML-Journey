{
 "cells": [
  {
   "cell_type": "markdown",
   "id": "48a35e4b",
   "metadata": {},
   "source": [
    "# Freecodecamp Challenge - SMS Text Classification\n",
    "## with Sentiment Analysis (RNN)\n",
    "In this challenge, create a machine learning model that will classify SMS messages as either \"ham\" or \"spam\". \n",
    "- A \"ham\" message is a normal message sent by a friend. \n",
    "- A \"spam\" message is an advertisement or a message sent by a company."
   ]
  },
  {
   "cell_type": "code",
   "execution_count": 1,
   "id": "91479dd0",
   "metadata": {},
   "outputs": [
    {
     "name": "stdout",
     "output_type": "stream",
     "text": [
      "2.18.0-dev20240607\n"
     ]
    }
   ],
   "source": [
    "# setup\n",
    "# try:\n",
    "#     %pip install tf-nightly\n",
    "# except Exception:\n",
    "#     pass\n",
    "import tensorflow as tf # tensorflow 2.16.1\n",
    "import pandas as pd\n",
    "from tensorflow import keras\n",
    "\n",
    "# %pip install tensorflow-datasets==4.9.2\n",
    "import tensorflow_datasets as tfds\n",
    "import numpy as np\n",
    "import matplotlib.pyplot as plt\n",
    "\n",
    "print(tf.__version__)"
   ]
  },
  {
   "cell_type": "markdown",
   "id": "f3b108d1",
   "metadata": {},
   "source": [
    "## Preparing Data"
   ]
  },
  {
   "cell_type": "code",
   "execution_count": 2,
   "id": "ff6360b8",
   "metadata": {},
   "outputs": [],
   "source": [
    "# get data files\n",
    "# !wget https://cdn.freecodecamp.org/project-data/sms/train-data.tsv\n",
    "# !wget https://cdn.freecodecamp.org/project-data/sms/valid-data.tsv\n",
    "\n",
    "train_file_path = \"train-data.tsv\"\n",
    "test_file_path = \"valid-data.tsv\""
   ]
  },
  {
   "cell_type": "code",
   "execution_count": 3,
   "id": "56a685e4",
   "metadata": {},
   "outputs": [],
   "source": [
    "# create dataframe objects from tsv file\n",
    "# two ways of doing it\n",
    "\n",
    "train_dataset = pd.read_table(train_file_path, names=['Type', 'Message'])\n",
    "test_dataset = pd.read_csv(test_file_path, sep='\\t', names=['Type', 'Message'])"
   ]
  },
  {
   "cell_type": "code",
   "execution_count": 4,
   "id": "c241ab3b",
   "metadata": {},
   "outputs": [
    {
     "data": {
      "text/html": [
       "<div>\n",
       "<style scoped>\n",
       "    .dataframe tbody tr th:only-of-type {\n",
       "        vertical-align: middle;\n",
       "    }\n",
       "\n",
       "    .dataframe tbody tr th {\n",
       "        vertical-align: top;\n",
       "    }\n",
       "\n",
       "    .dataframe thead th {\n",
       "        text-align: right;\n",
       "    }\n",
       "</style>\n",
       "<table border=\"1\" class=\"dataframe\">\n",
       "  <thead>\n",
       "    <tr style=\"text-align: right;\">\n",
       "      <th></th>\n",
       "      <th>Type</th>\n",
       "      <th>Message</th>\n",
       "    </tr>\n",
       "  </thead>\n",
       "  <tbody>\n",
       "    <tr>\n",
       "      <th>0</th>\n",
       "      <td>ham</td>\n",
       "      <td>ahhhh...just woken up!had a bad dream about u ...</td>\n",
       "    </tr>\n",
       "    <tr>\n",
       "      <th>1</th>\n",
       "      <td>ham</td>\n",
       "      <td>you can never do nothing</td>\n",
       "    </tr>\n",
       "    <tr>\n",
       "      <th>2</th>\n",
       "      <td>ham</td>\n",
       "      <td>now u sound like manky scouse boy steve,like! ...</td>\n",
       "    </tr>\n",
       "    <tr>\n",
       "      <th>3</th>\n",
       "      <td>ham</td>\n",
       "      <td>mum say we wan to go then go... then she can s...</td>\n",
       "    </tr>\n",
       "    <tr>\n",
       "      <th>4</th>\n",
       "      <td>ham</td>\n",
       "      <td>never y lei... i v lazy... got wat? dat day ü ...</td>\n",
       "    </tr>\n",
       "    <tr>\n",
       "      <th>...</th>\n",
       "      <td>...</td>\n",
       "      <td>...</td>\n",
       "    </tr>\n",
       "    <tr>\n",
       "      <th>4174</th>\n",
       "      <td>ham</td>\n",
       "      <td>just woke up. yeesh its late. but i didn't fal...</td>\n",
       "    </tr>\n",
       "    <tr>\n",
       "      <th>4175</th>\n",
       "      <td>ham</td>\n",
       "      <td>what do u reckon as need 2 arrange transport i...</td>\n",
       "    </tr>\n",
       "    <tr>\n",
       "      <th>4176</th>\n",
       "      <td>spam</td>\n",
       "      <td>free entry into our £250 weekly competition ju...</td>\n",
       "    </tr>\n",
       "    <tr>\n",
       "      <th>4177</th>\n",
       "      <td>spam</td>\n",
       "      <td>-pls stop bootydelious (32/f) is inviting you ...</td>\n",
       "    </tr>\n",
       "    <tr>\n",
       "      <th>4178</th>\n",
       "      <td>ham</td>\n",
       "      <td>tell my  bad character which u dnt lik in me. ...</td>\n",
       "    </tr>\n",
       "  </tbody>\n",
       "</table>\n",
       "<p>4179 rows × 2 columns</p>\n",
       "</div>"
      ],
      "text/plain": [
       "      Type                                            Message\n",
       "0      ham  ahhhh...just woken up!had a bad dream about u ...\n",
       "1      ham                           you can never do nothing\n",
       "2      ham  now u sound like manky scouse boy steve,like! ...\n",
       "3      ham  mum say we wan to go then go... then she can s...\n",
       "4      ham  never y lei... i v lazy... got wat? dat day ü ...\n",
       "...    ...                                                ...\n",
       "4174   ham  just woke up. yeesh its late. but i didn't fal...\n",
       "4175   ham  what do u reckon as need 2 arrange transport i...\n",
       "4176  spam  free entry into our £250 weekly competition ju...\n",
       "4177  spam  -pls stop bootydelious (32/f) is inviting you ...\n",
       "4178   ham  tell my  bad character which u dnt lik in me. ...\n",
       "\n",
       "[4179 rows x 2 columns]"
      ]
     },
     "execution_count": 4,
     "metadata": {},
     "output_type": "execute_result"
    }
   ],
   "source": [
    "train_dataset"
   ]
  },
  {
   "cell_type": "code",
   "execution_count": 5,
   "id": "63b93b88",
   "metadata": {},
   "outputs": [
    {
     "data": {
      "text/html": [
       "<div>\n",
       "<style scoped>\n",
       "    .dataframe tbody tr th:only-of-type {\n",
       "        vertical-align: middle;\n",
       "    }\n",
       "\n",
       "    .dataframe tbody tr th {\n",
       "        vertical-align: top;\n",
       "    }\n",
       "\n",
       "    .dataframe thead th {\n",
       "        text-align: right;\n",
       "    }\n",
       "</style>\n",
       "<table border=\"1\" class=\"dataframe\">\n",
       "  <thead>\n",
       "    <tr style=\"text-align: right;\">\n",
       "      <th></th>\n",
       "      <th>Type</th>\n",
       "      <th>Message</th>\n",
       "    </tr>\n",
       "  </thead>\n",
       "  <tbody>\n",
       "    <tr>\n",
       "      <th>0</th>\n",
       "      <td>ham</td>\n",
       "      <td>i am in hospital da. . i will return home in e...</td>\n",
       "    </tr>\n",
       "    <tr>\n",
       "      <th>1</th>\n",
       "      <td>ham</td>\n",
       "      <td>not much, just some textin'. how bout you?</td>\n",
       "    </tr>\n",
       "    <tr>\n",
       "      <th>2</th>\n",
       "      <td>ham</td>\n",
       "      <td>i probably won't eat at all today. i think i'm...</td>\n",
       "    </tr>\n",
       "    <tr>\n",
       "      <th>3</th>\n",
       "      <td>ham</td>\n",
       "      <td>don‘t give a flying monkeys wot they think and...</td>\n",
       "    </tr>\n",
       "    <tr>\n",
       "      <th>4</th>\n",
       "      <td>ham</td>\n",
       "      <td>who are you seeing?</td>\n",
       "    </tr>\n",
       "    <tr>\n",
       "      <th>...</th>\n",
       "      <td>...</td>\n",
       "      <td>...</td>\n",
       "    </tr>\n",
       "    <tr>\n",
       "      <th>1387</th>\n",
       "      <td>ham</td>\n",
       "      <td>true dear..i sat to pray evening and felt so.s...</td>\n",
       "    </tr>\n",
       "    <tr>\n",
       "      <th>1388</th>\n",
       "      <td>ham</td>\n",
       "      <td>what will we do in the shower, baby?</td>\n",
       "    </tr>\n",
       "    <tr>\n",
       "      <th>1389</th>\n",
       "      <td>ham</td>\n",
       "      <td>where are you ? what are you doing ? are yuou ...</td>\n",
       "    </tr>\n",
       "    <tr>\n",
       "      <th>1390</th>\n",
       "      <td>spam</td>\n",
       "      <td>ur cash-balance is currently 500 pounds - to m...</td>\n",
       "    </tr>\n",
       "    <tr>\n",
       "      <th>1391</th>\n",
       "      <td>spam</td>\n",
       "      <td>not heard from u4 a while. call 4 rude chat pr...</td>\n",
       "    </tr>\n",
       "  </tbody>\n",
       "</table>\n",
       "<p>1392 rows × 2 columns</p>\n",
       "</div>"
      ],
      "text/plain": [
       "      Type                                            Message\n",
       "0      ham  i am in hospital da. . i will return home in e...\n",
       "1      ham         not much, just some textin'. how bout you?\n",
       "2      ham  i probably won't eat at all today. i think i'm...\n",
       "3      ham  don‘t give a flying monkeys wot they think and...\n",
       "4      ham                                who are you seeing?\n",
       "...    ...                                                ...\n",
       "1387   ham  true dear..i sat to pray evening and felt so.s...\n",
       "1388   ham               what will we do in the shower, baby?\n",
       "1389   ham  where are you ? what are you doing ? are yuou ...\n",
       "1390  spam  ur cash-balance is currently 500 pounds - to m...\n",
       "1391  spam  not heard from u4 a while. call 4 rude chat pr...\n",
       "\n",
       "[1392 rows x 2 columns]"
      ]
     },
     "execution_count": 5,
     "metadata": {},
     "output_type": "execute_result"
    }
   ],
   "source": [
    "test_dataset"
   ]
  },
  {
   "cell_type": "code",
   "execution_count": 6,
   "id": "e9d58e89",
   "metadata": {},
   "outputs": [],
   "source": [
    "# create labels and features\n",
    "train_labels, train_features = train_dataset['Type'], train_dataset['Message']\n",
    "test_labels, test_features = test_dataset['Type'], test_dataset['Message']"
   ]
  },
  {
   "cell_type": "markdown",
   "id": "d241ff09",
   "metadata": {},
   "source": [
    "## Converting to Numeric Data"
   ]
  },
  {
   "cell_type": "code",
   "execution_count": 7,
   "id": "6c8ce73a",
   "metadata": {},
   "outputs": [],
   "source": [
    "# encoding\n",
    "def bag_of_words(list_of_sentences, word_encoding_integer=1):\n",
    "    vocab = {} # a set of unique vocabularies in a dataset \n",
    "    bag = {} # show how many times a vocabulary appears in a dataset\n",
    "    encoded_sentences = [] # encoded lines\n",
    "    \n",
    "    for sentence in list_of_sentences:\n",
    "        words_per_sentence = sentence.lower().split(\" \") # list the words\n",
    "        encoded_sentence = []\n",
    "\n",
    "        for word in words_per_sentence: # for every word in a sentence\n",
    "            if word in vocab: # if the word is encoded already\n",
    "                encoded_integer = vocab[word] # get its encoded value\n",
    "            else: # if the word is new\n",
    "                vocab[word] = word_encoding_integer # assign the encoded value\n",
    "                encoded_integer = word_encoding_integer # get its encoded value\n",
    "                word_encoding_integer += 1 # update encoding value for next word\n",
    "        \n",
    "            # if the word is new, assign frequency # if it is old, add frequency\n",
    "            if encoded_integer in bag: bag[encoded_integer] += 1\n",
    "            else: bag[encoded_integer] = 1\n",
    "\n",
    "            encoded_sentence.append(encoded_integer) # convert each line of words into line of encoded integers\n",
    "      \n",
    "        encoded_sentences.append(encoded_sentence)\n",
    "  \n",
    "    return vocab, bag, encoded_sentences"
   ]
  },
  {
   "cell_type": "code",
   "execution_count": 8,
   "id": "e50978e4",
   "metadata": {},
   "outputs": [],
   "source": [
    "# decoding\n",
    "example_vocab = {}\n",
    "def decode_int(encoded_sentence=[], vocab_name=example_vocab):\n",
    "    decoded_sentence = \"\"\n",
    "    for names, encoded_ints in vocab_name.items(): # iterate through the given set of vocabulary\n",
    "        for ints in encoded_sentence: # iterate through the encoded values within an encoded sentence\n",
    "            if encoded_ints == ints: # if each encoded value is in vocab set\n",
    "                decoded_sentence += \" \"+str(names) # get its original word\n",
    "    return decoded_sentence"
   ]
  },
  {
   "cell_type": "code",
   "execution_count": 9,
   "id": "ee7b219e",
   "metadata": {},
   "outputs": [],
   "source": [
    "# encoding the features\n",
    "# the encoding integer 0 represents lacking of a word, the encoding integer value should start from 1\n",
    "vocab, vocab_repetition, encoded_sentences = bag_of_words(train_features) # encoding integer value starts from 1, the default\n",
    "test_vocab, test_vocab_repetition, encoded_test_sentences = bag_of_words(test_features)\n",
    "\n",
    "# encoding the labels \n",
    "# with \"sigmoid\" activation the encoding integers should be 0 and 1\n",
    "label_vocab, label_vocab_repetition, encoded_labels = bag_of_words(train_labels,0) # encoding integer value starts from 0\n",
    "label_test_vocab, label_test_vocab_repetition, encoded_t_labels = bag_of_words(test_labels,0)"
   ]
  },
  {
   "cell_type": "code",
   "execution_count": 10,
   "id": "78658f0a",
   "metadata": {},
   "outputs": [
    {
     "name": "stdout",
     "output_type": "stream",
     "text": [
      "ahhhh...just woken up!had a bad dream about u tho,so i dont like u right now :) i didnt know anything about comedy night but i guess im up for it.\n",
      "[1, 2, 3, 4, 5, 6, 7, 8, 9, 10, 11, 12, 8, 13, 14, 15, 10, 16, 17, 18, 7, 19, 20, 21, 10, 22, 23, 24, 25, 26]\n",
      " ahhhh...just woken up!had a bad dream about about u u tho,so i i i dont like right now :) didnt know anything comedy night but guess im up for it.\n",
      "\n",
      "i am in hospital da. . i will return home in evening\n",
      "[1, 2, 3, 4, 5, 6, 1, 7, 8, 9, 3, 10]\n",
      " i i am in in hospital da. . will return home evening\n",
      "\n",
      "ham ham\n",
      "[0] [0]\n",
      " ham  ham\n"
     ]
    }
   ],
   "source": [
    "# test the functions to features and labels\n",
    "print(train_features[0]) # original\n",
    "print(encoded_sentences[0]) # encoded\n",
    "print(decode_int(encoded_sentences[0], vocab_name=vocab)) # decoded\n",
    "\n",
    "print()\n",
    "print(test_features[0]) # original\n",
    "print(encoded_test_sentences[0]) # encoded\n",
    "print(decode_int(encoded_test_sentences[0], vocab_name=test_vocab)) # decoded\n",
    "\n",
    "print()\n",
    "print(train_labels[0], test_labels[0]) # original\n",
    "print(encoded_labels[0], encoded_t_labels[0]) # encoded\n",
    "print(decode_int(encoded_labels[0], vocab_name=label_vocab), decode_int(encoded_t_labels[0], vocab_name=label_test_vocab)) # decoded"
   ]
  },
  {
   "cell_type": "markdown",
   "id": "31f0503a",
   "metadata": {},
   "source": [
    "## Data Shape\n",
    "After both datasets to test and train are encoded, each number should represent a certain vocabulary word. Then-\n",
    "> - <b>encoded_sentences</b> or <b>encoded_test_sentences</b> should have something like [[1,2,3], [4,5], [1,2,1,3]].\n",
    "\n",
    "After both labels to test and train are encoded, each number should represent a certain category. In this case there are two categories. \n",
    "- 0 for ham message\n",
    "- 1 for spam message \n",
    "\n",
    "Then-\n",
    "> - <b>encoded_labels</b> or <b>encoded_t_labels</b> should have something like [1,0,0,1,1,0]."
   ]
  },
  {
   "cell_type": "markdown",
   "id": "a4f2bba0",
   "metadata": {},
   "source": [
    "## Data Preprocessing\n",
    "Every sms have different length of words and we cannot pass different lengths. To make each sms the same length:\n",
    "- If the sms is greater than 80 words, trim off the extra words.\n",
    "- If the sms is less than 80 words, add 0s till it reaches 80.\n",
    "\n",
    "Although the cutoff value is arbitrary, here, the average word length of the <b>train_features</b> is used. \n",
    "It is calculated by total word counts (including whitespaces) divided by total number of sentences. \n",
    "\n",
    "Note: <span style=\"background:#bebebe; color:black; border-radius:3px; padding: 3px 3px;\">sum(vocab_repetition.values())</span> will give the total word counts without whitespaces. Usually, a sentence can have any number of whitespaces, thus the total word counts should include whitespaces counts. \n",
    "\n",
    "The function below will find the <b>MAX_LEN</b> as mentioned above."
   ]
  },
  {
   "cell_type": "code",
   "execution_count": 11,
   "id": "6865d673",
   "metadata": {},
   "outputs": [
    {
     "data": {
      "text/plain": [
       "80"
      ]
     },
     "execution_count": 11,
     "metadata": {},
     "output_type": "execute_result"
    }
   ],
   "source": [
    "# Finding MAX_LEN by the average word length\n",
    "def find_MAX_LEN(list_of_sentences):\n",
    "    total_word_counts=0\n",
    "    for i in list_of_sentences:\n",
    "        total_word_counts+=len(i)\n",
    "    \n",
    "    return total_word_counts // len(list_of_sentences)\n",
    "\n",
    "MAX_LEN = find_MAX_LEN(train_features)\n",
    "MAX_LEN"
   ]
  },
  {
   "cell_type": "code",
   "execution_count": 12,
   "id": "9899c557",
   "metadata": {},
   "outputs": [],
   "source": [
    "# variables\n",
    "MAX_LEN = 80 \n",
    "BATCH_SIZE = 64\n",
    "VOCAB_SIZE = len(vocab) #11331\n",
    "epochs = 10 "
   ]
  },
  {
   "cell_type": "code",
   "execution_count": 13,
   "id": "648c8a63",
   "metadata": {},
   "outputs": [],
   "source": [
    "# preprocessing the data\n",
    "\n",
    "# make every sentence the same length\n",
    "train_data = keras.utils.pad_sequences(encoded_sentences, MAX_LEN)\n",
    "test_data = keras.utils.pad_sequences(encoded_test_sentences, MAX_LEN)\n",
    "\n",
    "# flatten the nested list in labels for the model\n",
    "encoded_train_labels = [eachVal for eachList in encoded_labels for eachVal in eachList]\n",
    "encoded_test_labels = [eachVal for eachList in encoded_t_labels for eachVal in eachList]\n",
    "\n",
    "# convert to numpy format\n",
    "train_data = np.array(train_data)\n",
    "test_data = np.array(test_data)\n",
    "encoded_train_labels = np.array(encoded_train_labels)\n",
    "encoded_test_labels = np.array(encoded_test_labels)"
   ]
  },
  {
   "cell_type": "markdown",
   "id": "13c0771d",
   "metadata": {},
   "source": [
    "## RNN Model"
   ]
  },
  {
   "cell_type": "code",
   "execution_count": 14,
   "id": "74ad9837",
   "metadata": {},
   "outputs": [
    {
     "data": {
      "text/html": [
       "<pre style=\"white-space:pre;overflow-x:auto;line-height:normal;font-family:Menlo,'DejaVu Sans Mono',consolas,'Courier New',monospace\"><span style=\"font-weight: bold\">Model: \"sequential\"</span>\n",
       "</pre>\n"
      ],
      "text/plain": [
       "\u001b[1mModel: \"sequential\"\u001b[0m\n"
      ]
     },
     "metadata": {},
     "output_type": "display_data"
    },
    {
     "data": {
      "text/html": [
       "<pre style=\"white-space:pre;overflow-x:auto;line-height:normal;font-family:Menlo,'DejaVu Sans Mono',consolas,'Courier New',monospace\">┏━━━━━━━━━━━━━━━━━━━━━━━━━━━━━━━━━━━━━━┳━━━━━━━━━━━━━━━━━━━━━━━━━━━━━┳━━━━━━━━━━━━━━━━━┓\n",
       "┃<span style=\"font-weight: bold\"> Layer (type)                         </span>┃<span style=\"font-weight: bold\"> Output Shape                </span>┃<span style=\"font-weight: bold\">         Param # </span>┃\n",
       "┡━━━━━━━━━━━━━━━━━━━━━━━━━━━━━━━━━━━━━━╇━━━━━━━━━━━━━━━━━━━━━━━━━━━━━╇━━━━━━━━━━━━━━━━━┩\n",
       "│ embedding (<span style=\"color: #0087ff; text-decoration-color: #0087ff\">Embedding</span>)                │ ?                           │     <span style=\"color: #00af00; text-decoration-color: #00af00\">0</span> (unbuilt) │\n",
       "├──────────────────────────────────────┼─────────────────────────────┼─────────────────┤\n",
       "│ lstm (<span style=\"color: #0087ff; text-decoration-color: #0087ff\">LSTM</span>)                          │ ?                           │     <span style=\"color: #00af00; text-decoration-color: #00af00\">0</span> (unbuilt) │\n",
       "├──────────────────────────────────────┼─────────────────────────────┼─────────────────┤\n",
       "│ dense (<span style=\"color: #0087ff; text-decoration-color: #0087ff\">Dense</span>)                        │ ?                           │     <span style=\"color: #00af00; text-decoration-color: #00af00\">0</span> (unbuilt) │\n",
       "└──────────────────────────────────────┴─────────────────────────────┴─────────────────┘\n",
       "</pre>\n"
      ],
      "text/plain": [
       "┏━━━━━━━━━━━━━━━━━━━━━━━━━━━━━━━━━━━━━━┳━━━━━━━━━━━━━━━━━━━━━━━━━━━━━┳━━━━━━━━━━━━━━━━━┓\n",
       "┃\u001b[1m \u001b[0m\u001b[1mLayer (type)                        \u001b[0m\u001b[1m \u001b[0m┃\u001b[1m \u001b[0m\u001b[1mOutput Shape               \u001b[0m\u001b[1m \u001b[0m┃\u001b[1m \u001b[0m\u001b[1m        Param #\u001b[0m\u001b[1m \u001b[0m┃\n",
       "┡━━━━━━━━━━━━━━━━━━━━━━━━━━━━━━━━━━━━━━╇━━━━━━━━━━━━━━━━━━━━━━━━━━━━━╇━━━━━━━━━━━━━━━━━┩\n",
       "│ embedding (\u001b[38;5;33mEmbedding\u001b[0m)                │ ?                           │     \u001b[38;5;34m0\u001b[0m (unbuilt) │\n",
       "├──────────────────────────────────────┼─────────────────────────────┼─────────────────┤\n",
       "│ lstm (\u001b[38;5;33mLSTM\u001b[0m)                          │ ?                           │     \u001b[38;5;34m0\u001b[0m (unbuilt) │\n",
       "├──────────────────────────────────────┼─────────────────────────────┼─────────────────┤\n",
       "│ dense (\u001b[38;5;33mDense\u001b[0m)                        │ ?                           │     \u001b[38;5;34m0\u001b[0m (unbuilt) │\n",
       "└──────────────────────────────────────┴─────────────────────────────┴─────────────────┘\n"
      ]
     },
     "metadata": {},
     "output_type": "display_data"
    },
    {
     "data": {
      "text/html": [
       "<pre style=\"white-space:pre;overflow-x:auto;line-height:normal;font-family:Menlo,'DejaVu Sans Mono',consolas,'Courier New',monospace\"><span style=\"font-weight: bold\"> Total params: </span><span style=\"color: #00af00; text-decoration-color: #00af00\">0</span> (0.00 B)\n",
       "</pre>\n"
      ],
      "text/plain": [
       "\u001b[1m Total params: \u001b[0m\u001b[38;5;34m0\u001b[0m (0.00 B)\n"
      ]
     },
     "metadata": {},
     "output_type": "display_data"
    },
    {
     "data": {
      "text/html": [
       "<pre style=\"white-space:pre;overflow-x:auto;line-height:normal;font-family:Menlo,'DejaVu Sans Mono',consolas,'Courier New',monospace\"><span style=\"font-weight: bold\"> Trainable params: </span><span style=\"color: #00af00; text-decoration-color: #00af00\">0</span> (0.00 B)\n",
       "</pre>\n"
      ],
      "text/plain": [
       "\u001b[1m Trainable params: \u001b[0m\u001b[38;5;34m0\u001b[0m (0.00 B)\n"
      ]
     },
     "metadata": {},
     "output_type": "display_data"
    },
    {
     "data": {
      "text/html": [
       "<pre style=\"white-space:pre;overflow-x:auto;line-height:normal;font-family:Menlo,'DejaVu Sans Mono',consolas,'Courier New',monospace\"><span style=\"font-weight: bold\"> Non-trainable params: </span><span style=\"color: #00af00; text-decoration-color: #00af00\">0</span> (0.00 B)\n",
       "</pre>\n"
      ],
      "text/plain": [
       "\u001b[1m Non-trainable params: \u001b[0m\u001b[38;5;34m0\u001b[0m (0.00 B)\n"
      ]
     },
     "metadata": {},
     "output_type": "display_data"
    }
   ],
   "source": [
    "# build the model\n",
    "model = tf.keras.Sequential([\n",
    "                             tf.keras.layers.Embedding(VOCAB_SIZE+1, 32),\n",
    "                             tf.keras.layers.LSTM(32),\n",
    "                             tf.keras.layers.Dense(1, activation=\"sigmoid\")\n",
    "])\n",
    "model.summary()"
   ]
  },
  {
   "cell_type": "code",
   "execution_count": 15,
   "id": "e977395e",
   "metadata": {},
   "outputs": [],
   "source": [
    "# compile\n",
    "model.compile(loss=\"binary_crossentropy\",\n",
    "              optimizer=\"rmsprop\",\n",
    "              metrics=['accuracy'])"
   ]
  },
  {
   "cell_type": "code",
   "execution_count": 16,
   "id": "6faee73a",
   "metadata": {},
   "outputs": [
    {
     "name": "stdout",
     "output_type": "stream",
     "text": [
      "Epoch 1/10\n",
      "\u001b[1m105/105\u001b[0m \u001b[32m━━━━━━━━━━━━━━━━━━━━\u001b[0m\u001b[37m\u001b[0m \u001b[1m4s\u001b[0m 21ms/step - accuracy: 0.8675 - loss: 0.3754 - val_accuracy: 0.9474 - val_loss: 0.1511\n",
      "Epoch 2/10\n",
      "\u001b[1m105/105\u001b[0m \u001b[32m━━━━━━━━━━━━━━━━━━━━\u001b[0m\u001b[37m\u001b[0m \u001b[1m2s\u001b[0m 19ms/step - accuracy: 0.9632 - loss: 0.1305 - val_accuracy: 0.9809 - val_loss: 0.0832\n",
      "Epoch 3/10\n",
      "\u001b[1m105/105\u001b[0m \u001b[32m━━━━━━━━━━━━━━━━━━━━\u001b[0m\u001b[37m\u001b[0m \u001b[1m2s\u001b[0m 19ms/step - accuracy: 0.9812 - loss: 0.0698 - val_accuracy: 0.9844 - val_loss: 0.0566\n",
      "Epoch 4/10\n",
      "\u001b[1m105/105\u001b[0m \u001b[32m━━━━━━━━━━━━━━━━━━━━\u001b[0m\u001b[37m\u001b[0m \u001b[1m2s\u001b[0m 21ms/step - accuracy: 0.9897 - loss: 0.0385 - val_accuracy: 0.9833 - val_loss: 0.0513\n",
      "Epoch 5/10\n",
      "\u001b[1m105/105\u001b[0m \u001b[32m━━━━━━━━━━━━━━━━━━━━\u001b[0m\u001b[37m\u001b[0m \u001b[1m2s\u001b[0m 19ms/step - accuracy: 0.9922 - loss: 0.0342 - val_accuracy: 0.9844 - val_loss: 0.0511\n",
      "Epoch 6/10\n",
      "\u001b[1m105/105\u001b[0m \u001b[32m━━━━━━━━━━━━━━━━━━━━\u001b[0m\u001b[37m\u001b[0m \u001b[1m2s\u001b[0m 20ms/step - accuracy: 0.9950 - loss: 0.0215 - val_accuracy: 0.9785 - val_loss: 0.0605\n",
      "Epoch 7/10\n",
      "\u001b[1m105/105\u001b[0m \u001b[32m━━━━━━━━━━━━━━━━━━━━\u001b[0m\u001b[37m\u001b[0m \u001b[1m2s\u001b[0m 19ms/step - accuracy: 0.9967 - loss: 0.0191 - val_accuracy: 0.9868 - val_loss: 0.0549\n",
      "Epoch 8/10\n",
      "\u001b[1m105/105\u001b[0m \u001b[32m━━━━━━━━━━━━━━━━━━━━\u001b[0m\u001b[37m\u001b[0m \u001b[1m2s\u001b[0m 19ms/step - accuracy: 0.9973 - loss: 0.0101 - val_accuracy: 0.9880 - val_loss: 0.0581\n",
      "Epoch 9/10\n",
      "\u001b[1m105/105\u001b[0m \u001b[32m━━━━━━━━━━━━━━━━━━━━\u001b[0m\u001b[37m\u001b[0m \u001b[1m2s\u001b[0m 20ms/step - accuracy: 0.9982 - loss: 0.0070 - val_accuracy: 0.9892 - val_loss: 0.0579\n",
      "Epoch 10/10\n",
      "\u001b[1m105/105\u001b[0m \u001b[32m━━━━━━━━━━━━━━━━━━━━\u001b[0m\u001b[37m\u001b[0m \u001b[1m2s\u001b[0m 19ms/step - accuracy: 0.9993 - loss: 0.0031 - val_accuracy: 0.9880 - val_loss: 0.0680\n"
     ]
    }
   ],
   "source": [
    "# train\n",
    "history = model.fit(train_data, encoded_train_labels, epochs=epochs, validation_split=0.2)"
   ]
  },
  {
   "cell_type": "code",
   "execution_count": 17,
   "id": "0ba7f628",
   "metadata": {},
   "outputs": [
    {
     "name": "stdout",
     "output_type": "stream",
     "text": [
      "\u001b[1m44/44\u001b[0m \u001b[32m━━━━━━━━━━━━━━━━━━━━\u001b[0m\u001b[37m\u001b[0m \u001b[1m0s\u001b[0m 5ms/step - accuracy: 0.6263 - loss: 1.8082\n"
     ]
    }
   ],
   "source": [
    "# evaluate\n",
    "results = model.evaluate(test_data, encoded_test_labels)"
   ]
  },
  {
   "cell_type": "markdown",
   "id": "768e195d",
   "metadata": {},
   "source": [
    "## Plot the Loss and the Accuracy"
   ]
  },
  {
   "cell_type": "code",
   "execution_count": 18,
   "id": "01811bc2",
   "metadata": {},
   "outputs": [
    {
     "data": {
      "image/png": "[encoded data removed]",
      "text/plain": [
       "<Figure size 1850x1050 with 2 Axes>"
      ]
     },
     "metadata": {},
     "output_type": "display_data"
    }
   ],
   "source": [
    "# plot function\n",
    "def plot_loss_and_acc():\n",
    "    fig, axs = plt.subplots(2 , 1)\n",
    "    fig.set_size_inches(18.5, 10.5)\n",
    "    axs1 = axs[0]\n",
    "    axs2 = axs[1]\n",
    "\n",
    "    axs1.plot(range(epochs), history.history['accuracy'], label='Training Accuracy')\n",
    "    axs1.plot(range(epochs), history.history['val_accuracy'], label='Validation Accuracy')\n",
    "    axs1.legend(loc='lower right')\n",
    "    axs1.set(xlabel='Epoch', ylabel='Accuracy')\n",
    "    axs1.set_title('Training and Validation Accuracy')\n",
    "    axs1.grid(True)\n",
    "\n",
    "\n",
    "    axs2.plot(range(epochs), history.history['loss'], label='Training Loss')\n",
    "    axs2.plot(range(epochs), history.history['val_loss'], label='Validation Loss')\n",
    "    axs2.legend(loc='upper right')\n",
    "    axs2.set(xlabel='Epoch', ylabel='Error')\n",
    "    axs2.set_title('Training and Validation Loss')\n",
    "    axs2.grid(True)\n",
    "    fig.tight_layout()\n",
    "    plt.show()\n",
    "\n",
    "plot_loss_and_acc()"
   ]
  },
  {
   "cell_type": "markdown",
   "id": "cf50ac47",
   "metadata": {},
   "source": [
    "## Predictions"
   ]
  },
  {
   "cell_type": "code",
   "execution_count": 19,
   "id": "68a2a80c",
   "metadata": {},
   "outputs": [
    {
     "name": "stdout",
     "output_type": "stream",
     "text": [
      "\u001b[1m1/1\u001b[0m \u001b[32m━━━━━━━━━━━━━━━━━━━━\u001b[0m\u001b[37m\u001b[0m \u001b[1m0s\u001b[0m 155ms/step\n",
      "[0.00016232124471571296, 'ham']\n"
     ]
    }
   ],
   "source": [
    "# function to predict messages based on model\n",
    "# (should return list containing prediction and label, ex. [0.008318834938108921, 'ham'])\n",
    "\n",
    "def predict_message(pred_text):\n",
    "    prediction = []\n",
    "    tokens = keras.preprocessing.text.text_to_word_sequence(pred_text)\n",
    "    tokens = [vocab[word] if word in vocab else 0 for word in tokens]\n",
    "    encoded_pred_text = keras.utils.pad_sequences([tokens], MAX_LEN)[0] # numpy object\n",
    "\n",
    "    pred = np.zeros((1, MAX_LEN))\n",
    "    pred[0] = encoded_pred_text\n",
    "\n",
    "    predicted_array = model.predict(pred)\n",
    "    predicted_val = predicted_array[0].tolist()[0]\n",
    "    prediction.append(predicted_val)\n",
    "  \n",
    "    if predicted_val<0.5:\n",
    "        prediction.append(\"ham\")\n",
    "    elif predicted_val>=0.5:\n",
    "        prediction.append(\"spam\")\n",
    "\n",
    "    return prediction\n",
    "\n",
    "# test the function\n",
    "pred_text = \"how are you doing today?\"\n",
    "prediction = predict_message(pred_text)\n",
    "print(prediction)"
   ]
  },
  {
   "cell_type": "code",
   "execution_count": 20,
   "id": "cf91724c",
   "metadata": {},
   "outputs": [
    {
     "name": "stdout",
     "output_type": "stream",
     "text": [
      "\u001b[1m1/1\u001b[0m \u001b[32m━━━━━━━━━━━━━━━━━━━━\u001b[0m\u001b[37m\u001b[0m \u001b[1m0s\u001b[0m 26ms/step\n",
      "\u001b[1m1/1\u001b[0m \u001b[32m━━━━━━━━━━━━━━━━━━━━\u001b[0m\u001b[37m\u001b[0m \u001b[1m0s\u001b[0m 22ms/step\n",
      "\u001b[1m1/1\u001b[0m \u001b[32m━━━━━━━━━━━━━━━━━━━━\u001b[0m\u001b[37m\u001b[0m \u001b[1m0s\u001b[0m 25ms/step\n",
      "\u001b[1m1/1\u001b[0m \u001b[32m━━━━━━━━━━━━━━━━━━━━\u001b[0m\u001b[37m\u001b[0m \u001b[1m0s\u001b[0m 27ms/step\n",
      "\u001b[1m1/1\u001b[0m \u001b[32m━━━━━━━━━━━━━━━━━━━━\u001b[0m\u001b[37m\u001b[0m \u001b[1m0s\u001b[0m 28ms/step\n",
      "\u001b[1m1/1\u001b[0m \u001b[32m━━━━━━━━━━━━━━━━━━━━\u001b[0m\u001b[37m\u001b[0m \u001b[1m0s\u001b[0m 25ms/step\n",
      "\u001b[1m1/1\u001b[0m \u001b[32m━━━━━━━━━━━━━━━━━━━━\u001b[0m\u001b[37m\u001b[0m \u001b[1m0s\u001b[0m 23ms/step\n",
      "You passed the challenge. Great job!\n"
     ]
    }
   ],
   "source": [
    "# Run this cell to test your function and model. Do not modify contents.\n",
    "def test_predictions():\n",
    "    test_messages = [\"how are you doing today\",\n",
    "                     \"sale today! to stop texts call 98912460324\",\n",
    "                     \"i dont want to go. can we try it a different day? available sat\",\n",
    "                     \"our new mobile video service is live. just install on your phone to start watching.\",\n",
    "                     \"you have won £1000 cash! call to claim your prize.\",\n",
    "                     \"i'll bring it tomorrow. don't forget the milk.\",\n",
    "                     \"wow, is your arm alright. that happened to me one time too\"\n",
    "                    ]\n",
    "\n",
    "    test_answers = [\"ham\", \"spam\", \"ham\", \"spam\", \"spam\", \"ham\", \"ham\"]\n",
    "    passed = True\n",
    "\n",
    "    for msg, ans in zip(test_messages, test_answers):\n",
    "        prediction = predict_message(msg)\n",
    "        if prediction[1] != ans:\n",
    "            passed = False\n",
    "\n",
    "    if passed:\n",
    "        print(\"You passed the challenge. Great job!\")\n",
    "    else:\n",
    "        print(\"You haven't passed yet. Keep trying.\")\n",
    "\n",
    "test_predictions()"
   ]
  },
  {
   "cell_type": "markdown",
   "id": "fd602111",
   "metadata": {},
   "source": [
    "### Predict any SMS\n",
    "Given an input string of sms, any sms can be predicted to be either \"ham\" or \"spam\"."
   ]
  },
  {
   "cell_type": "code",
   "execution_count": 21,
   "id": "52581cc7-550f-4257-a711-48c8a7c49158",
   "metadata": {},
   "outputs": [
    {
     "name": "stdin",
     "output_type": "stream",
     "text": [
      "Enter the SMS: claim your prize!\n"
     ]
    },
    {
     "name": "stdout",
     "output_type": "stream",
     "text": [
      "\u001b[1m1/1\u001b[0m \u001b[32m━━━━━━━━━━━━━━━━━━━━\u001b[0m\u001b[37m\u001b[0m \u001b[1m0s\u001b[0m 26ms/step\n",
      "[0.948849081993103, 'spam']\n",
      "\n",
      "A possible spam message is detected!\n"
     ]
    }
   ],
   "source": [
    "pred_text = str(input(\"Enter the SMS:\"))\n",
    "prediction = predict_message(pred_text)\n",
    "response = [\"This message is possibly sent by a friend.\", \"A possible spam message is detected!\"]\n",
    "\n",
    "print(prediction)\n",
    "print()\n",
    "if prediction[1] == \"ham\":\n",
    "    print(response[0])\n",
    "else: print(response[1])"
   ]
  }
 ],
 "metadata": {
  "kernelspec": {
   "display_name": "Python 3 (ipykernel)",
   "language": "python",
   "name": "python3"
  },
  "language_info": {
   "codemirror_mode": {
    "name": "ipython",
    "version": 3
   },
   "file_extension": ".py",
   "mimetype": "text/x-python",
   "name": "python",
   "nbconvert_exporter": "python",
   "pygments_lexer": "ipython3",
   "version": "3.9.19"
  }
 },
 "nbformat": 4,
 "nbformat_minor": 5
}
